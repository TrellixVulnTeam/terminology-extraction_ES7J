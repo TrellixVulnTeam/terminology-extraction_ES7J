{
 "cells": [
  {
   "cell_type": "code",
   "execution_count": 1,
   "id": "57031bdf-df98-41d4-b73c-c319ec9fca10",
   "metadata": {},
   "outputs": [],
   "source": [
    "import pandas as pd"
   ]
  },
  {
   "cell_type": "code",
   "execution_count": 2,
   "id": "17e874c5-ce9b-4921-b99d-8c396db51ffe",
   "metadata": {},
   "outputs": [],
   "source": [
    "corp_equi_wind = pd.read_csv('./corp_equi_wind/en_iate_f1.csv').rename(columns={'Unnamed: 0':'Patterns'})\n",
    "cols = ['ann_xlnet_htfl.pkl', 'ann_xlnet_wind.pkl',\n",
    "       'ann_xlnet_equi.pkl', 'ann_xlnet_corp.pkl', 'nes_xlnet_htfl.pkl',\n",
    "       'nes_xlnet_wind.pkl', 'nes_xlnet_equi.pkl', 'nes_xlnet_corp.pkl']\n",
    "for col in cols:\n",
    "    corp_equi_wind['percent_'+col] = round(corp_equi_wind[col]*100/corp_equi_wind[col].iloc[0],2)"
   ]
  },
  {
   "cell_type": "code",
   "execution_count": 3,
   "id": "b61a3fb6-6fad-4bda-8e4f-319dcdbb28c4",
   "metadata": {},
   "outputs": [
    {
     "data": {
      "text/html": [
       "<div>\n",
       "<style scoped>\n",
       "    .dataframe tbody tr th:only-of-type {\n",
       "        vertical-align: middle;\n",
       "    }\n",
       "\n",
       "    .dataframe tbody tr th {\n",
       "        vertical-align: top;\n",
       "    }\n",
       "\n",
       "    .dataframe thead th {\n",
       "        text-align: right;\n",
       "    }\n",
       "</style>\n",
       "<table border=\"1\" class=\"dataframe\">\n",
       "  <thead>\n",
       "    <tr style=\"text-align: right;\">\n",
       "      <th></th>\n",
       "      <th>Patterns</th>\n",
       "      <th>percent_ann_xlnet_htfl.pkl</th>\n",
       "      <th>percent_nes_xlnet_htfl.pkl</th>\n",
       "    </tr>\n",
       "  </thead>\n",
       "  <tbody>\n",
       "    <tr>\n",
       "      <th>1</th>\n",
       "      <td>ADJ_NOUN_F1</td>\n",
       "      <td>105.35</td>\n",
       "      <td>102.65</td>\n",
       "    </tr>\n",
       "    <tr>\n",
       "      <th>3</th>\n",
       "      <td>ADJ_ADJ_NOUN_F1</td>\n",
       "      <td>101.39</td>\n",
       "      <td>100.73</td>\n",
       "    </tr>\n",
       "    <tr>\n",
       "      <th>5</th>\n",
       "      <td>NOUN_ADJ_NOUN_F1</td>\n",
       "      <td>100.08</td>\n",
       "      <td>99.85</td>\n",
       "    </tr>\n",
       "    <tr>\n",
       "      <th>6</th>\n",
       "      <td>NOUN_NOUN_NOUN_F1</td>\n",
       "      <td>100.20</td>\n",
       "      <td>99.87</td>\n",
       "    </tr>\n",
       "    <tr>\n",
       "      <th>13</th>\n",
       "      <td>NOUN_PRON_F1</td>\n",
       "      <td>100.17</td>\n",
       "      <td>100.25</td>\n",
       "    </tr>\n",
       "    <tr>\n",
       "      <th>14</th>\n",
       "      <td>ADJ_NOUN_ADJ_NOUN_F1</td>\n",
       "      <td>100.00</td>\n",
       "      <td>100.10</td>\n",
       "    </tr>\n",
       "  </tbody>\n",
       "</table>\n",
       "</div>"
      ],
      "text/plain": [
       "                Patterns  percent_ann_xlnet_htfl.pkl  \\\n",
       "1            ADJ_NOUN_F1                      105.35   \n",
       "3        ADJ_ADJ_NOUN_F1                      101.39   \n",
       "5       NOUN_ADJ_NOUN_F1                      100.08   \n",
       "6      NOUN_NOUN_NOUN_F1                      100.20   \n",
       "13          NOUN_PRON_F1                      100.17   \n",
       "14  ADJ_NOUN_ADJ_NOUN_F1                      100.00   \n",
       "\n",
       "    percent_nes_xlnet_htfl.pkl  \n",
       "1                       102.65  \n",
       "3                       100.73  \n",
       "5                        99.85  \n",
       "6                        99.87  \n",
       "13                      100.25  \n",
       "14                      100.10  "
      ]
     },
     "execution_count": 3,
     "metadata": {},
     "output_type": "execute_result"
    }
   ],
   "source": [
    "corp_equi_wind_df = corp_equi_wind.filter(regex='percent_|Patterns')\n",
    "corp_equi_wind_df = corp_equi_wind_df[['Patterns','percent_ann_xlnet_htfl.pkl','percent_nes_xlnet_htfl.pkl']]\n",
    "corp_equi_wind_df[(corp_equi_wind_df.filter(regex='percent_').values > 100).any(axis=1)]"
   ]
  },
  {
   "cell_type": "code",
   "execution_count": 4,
   "id": "0676bb70-bf12-40b6-a5d5-5b07ef3c62b2",
   "metadata": {},
   "outputs": [
    {
     "data": {
      "text/html": [
       "<div>\n",
       "<style scoped>\n",
       "    .dataframe tbody tr th:only-of-type {\n",
       "        vertical-align: middle;\n",
       "    }\n",
       "\n",
       "    .dataframe tbody tr th {\n",
       "        vertical-align: top;\n",
       "    }\n",
       "\n",
       "    .dataframe thead th {\n",
       "        text-align: right;\n",
       "    }\n",
       "</style>\n",
       "<table border=\"1\" class=\"dataframe\">\n",
       "  <thead>\n",
       "    <tr style=\"text-align: right;\">\n",
       "      <th></th>\n",
       "      <th>Patterns</th>\n",
       "      <th>percent_ann_xlnet_wind.pkl</th>\n",
       "      <th>percent_nes_xlnet_wind.pkl</th>\n",
       "    </tr>\n",
       "  </thead>\n",
       "  <tbody>\n",
       "    <tr>\n",
       "      <th>5</th>\n",
       "      <td>ADJ_NOUN_F1</td>\n",
       "      <td>102.82</td>\n",
       "      <td>100.65</td>\n",
       "    </tr>\n",
       "    <tr>\n",
       "      <th>8</th>\n",
       "      <td>NOUN_NOUN_F1</td>\n",
       "      <td>124.91</td>\n",
       "      <td>111.76</td>\n",
       "    </tr>\n",
       "    <tr>\n",
       "      <th>14</th>\n",
       "      <td>ADJ_NOUN_NOUN_F1</td>\n",
       "      <td>102.13</td>\n",
       "      <td>100.96</td>\n",
       "    </tr>\n",
       "    <tr>\n",
       "      <th>20</th>\n",
       "      <td>NOUN_NOUN_NOUN_F1</td>\n",
       "      <td>102.60</td>\n",
       "      <td>100.27</td>\n",
       "    </tr>\n",
       "  </tbody>\n",
       "</table>\n",
       "</div>"
      ],
      "text/plain": [
       "             Patterns  percent_ann_xlnet_wind.pkl  percent_nes_xlnet_wind.pkl\n",
       "5         ADJ_NOUN_F1                      102.82                      100.65\n",
       "8        NOUN_NOUN_F1                      124.91                      111.76\n",
       "14   ADJ_NOUN_NOUN_F1                      102.13                      100.96\n",
       "20  NOUN_NOUN_NOUN_F1                      102.60                      100.27"
      ]
     },
     "execution_count": 4,
     "metadata": {},
     "output_type": "execute_result"
    }
   ],
   "source": [
    "corp_equi = pd.read_csv('./corp_equi/en_iate_f1.csv').rename(columns={'Unnamed: 0':'Patterns'})\n",
    "corp_equi = corp_equi[corp_equi['Patterns'].str.endswith('_F1')]\n",
    "for col in cols:\n",
    "    corp_equi['percent_'+col] = round(corp_equi[col]*100/corp_equi[col].iloc[0],2)\n",
    "corp_equi_df = corp_equi.filter(regex='percent_|Patterns')\n",
    "corp_equi_df = corp_equi_df[['Patterns','percent_ann_xlnet_wind.pkl','percent_nes_xlnet_wind.pkl']]\n",
    "corp_equi_df[(corp_equi_df.filter(regex='percent_').values > 100).any(axis=1)]"
   ]
  },
  {
   "cell_type": "code",
   "execution_count": 5,
   "id": "10cf0b7b-ec2c-4266-89c6-3956aeaa2568",
   "metadata": {},
   "outputs": [],
   "source": [
    "# corp_equi_df.to_csv('./corp_equi/en_iate_f1_.csv')\n",
    "# corp_equi_df[(corp_equi_df.filter(regex='percent_').values > 100).any(axis=1)]\n",
    "# corp_equi_df.filter(regex='Patterns|wind|htfl')"
   ]
  },
  {
   "cell_type": "code",
   "execution_count": 6,
   "id": "be8f6e3e-dd85-4ab9-87ae-488e6bc28650",
   "metadata": {},
   "outputs": [
    {
     "data": {
      "text/html": [
       "<div>\n",
       "<style scoped>\n",
       "    .dataframe tbody tr th:only-of-type {\n",
       "        vertical-align: middle;\n",
       "    }\n",
       "\n",
       "    .dataframe tbody tr th {\n",
       "        vertical-align: top;\n",
       "    }\n",
       "\n",
       "    .dataframe thead th {\n",
       "        text-align: right;\n",
       "    }\n",
       "</style>\n",
       "<table border=\"1\" class=\"dataframe\">\n",
       "  <thead>\n",
       "    <tr style=\"text-align: right;\">\n",
       "      <th></th>\n",
       "      <th>Patterns</th>\n",
       "      <th>percent_ann_xlnet_equi.pkl</th>\n",
       "      <th>percent_nes_xlnet_equi.pkl</th>\n",
       "    </tr>\n",
       "  </thead>\n",
       "  <tbody>\n",
       "  </tbody>\n",
       "</table>\n",
       "</div>"
      ],
      "text/plain": [
       "Empty DataFrame\n",
       "Columns: [Patterns, percent_ann_xlnet_equi.pkl, percent_nes_xlnet_equi.pkl]\n",
       "Index: []"
      ]
     },
     "execution_count": 6,
     "metadata": {},
     "output_type": "execute_result"
    }
   ],
   "source": [
    "corp_wind = pd.read_csv('./corp_wind/en_iate_f1.csv').rename(columns={'Unnamed: 0':'Patterns'})\n",
    "corp_wind = corp_wind[corp_wind['Patterns'].str.endswith('_F1')]\n",
    "for col in cols:\n",
    "    corp_wind['percent_'+col] = round(corp_wind[col]*100/corp_wind[col].iloc[0],2)\n",
    "corp_wind_df = corp_wind.filter(regex='percent_|Patterns')\n",
    "corp_wind_df = corp_wind_df[['Patterns','percent_ann_xlnet_equi.pkl','percent_nes_xlnet_equi.pkl']]\n",
    "corp_wind_df[(corp_wind_df.filter(regex='percent_').values > 100).any(axis=1)]"
   ]
  },
  {
   "cell_type": "code",
   "execution_count": 7,
   "id": "d28030f3-307e-4d81-a4e9-0a240b2bbcbd",
   "metadata": {},
   "outputs": [
    {
     "data": {
      "text/html": [
       "<div>\n",
       "<style scoped>\n",
       "    .dataframe tbody tr th:only-of-type {\n",
       "        vertical-align: middle;\n",
       "    }\n",
       "\n",
       "    .dataframe tbody tr th {\n",
       "        vertical-align: top;\n",
       "    }\n",
       "\n",
       "    .dataframe thead th {\n",
       "        text-align: right;\n",
       "    }\n",
       "</style>\n",
       "<table border=\"1\" class=\"dataframe\">\n",
       "  <thead>\n",
       "    <tr style=\"text-align: right;\">\n",
       "      <th></th>\n",
       "      <th>Patterns</th>\n",
       "      <th>percent_ann_xlnet_equi.pkl</th>\n",
       "      <th>percent_nes_xlnet_equi.pkl</th>\n",
       "    </tr>\n",
       "  </thead>\n",
       "  <tbody>\n",
       "  </tbody>\n",
       "</table>\n",
       "</div>"
      ],
      "text/plain": [
       "Empty DataFrame\n",
       "Columns: [Patterns, percent_ann_xlnet_equi.pkl, percent_nes_xlnet_equi.pkl]\n",
       "Index: []"
      ]
     },
     "execution_count": 7,
     "metadata": {},
     "output_type": "execute_result"
    }
   ],
   "source": [
    "corp_wind_df[(corp_wind_df.filter(regex='percent_').values > 100).any(axis=1)]\n",
    "# corp_wind_df.to_csv('./corp_wind/en_iate_f1_.csv')"
   ]
  },
  {
   "cell_type": "code",
   "execution_count": 16,
   "id": "eef88a8b-fbc5-40a1-82cf-5e7bf1532897",
   "metadata": {},
   "outputs": [
    {
     "name": "stderr",
     "output_type": "stream",
     "text": [
      "<ipython-input-16-ce6249ddbc94>:2: SettingWithCopyWarning: \n",
      "A value is trying to be set on a copy of a slice from a DataFrame.\n",
      "Try using .loc[row_indexer,col_indexer] = value instead\n",
      "\n",
      "See the caveats in the documentation: https://pandas.pydata.org/pandas-docs/stable/user_guide/indexing.html#returning-a-view-versus-a-copy\n",
      "  a['ann'] = [100 - x for x in a['percent_ann_xlnet_equi.pkl']]\n",
      "<ipython-input-16-ce6249ddbc94>:3: SettingWithCopyWarning: \n",
      "A value is trying to be set on a copy of a slice from a DataFrame.\n",
      "Try using .loc[row_indexer,col_indexer] = value instead\n",
      "\n",
      "See the caveats in the documentation: https://pandas.pydata.org/pandas-docs/stable/user_guide/indexing.html#returning-a-view-versus-a-copy\n",
      "  a['nes'] = [100 - x for x in a['percent_nes_xlnet_equi.pkl']]\n"
     ]
    },
    {
     "data": {
      "text/html": [
       "<div>\n",
       "<style scoped>\n",
       "    .dataframe tbody tr th:only-of-type {\n",
       "        vertical-align: middle;\n",
       "    }\n",
       "\n",
       "    .dataframe tbody tr th {\n",
       "        vertical-align: top;\n",
       "    }\n",
       "\n",
       "    .dataframe thead th {\n",
       "        text-align: right;\n",
       "    }\n",
       "</style>\n",
       "<table border=\"1\" class=\"dataframe\">\n",
       "  <thead>\n",
       "    <tr style=\"text-align: right;\">\n",
       "      <th></th>\n",
       "      <th>ann</th>\n",
       "      <th>nes</th>\n",
       "    </tr>\n",
       "  </thead>\n",
       "  <tbody>\n",
       "    <tr>\n",
       "      <th>1</th>\n",
       "      <td>3.39</td>\n",
       "      <td>2.41</td>\n",
       "    </tr>\n",
       "    <tr>\n",
       "      <th>2</th>\n",
       "      <td>5.95</td>\n",
       "      <td>5.19</td>\n",
       "    </tr>\n",
       "    <tr>\n",
       "      <th>4</th>\n",
       "      <td>0.60</td>\n",
       "      <td>0.57</td>\n",
       "    </tr>\n",
       "    <tr>\n",
       "      <th>6</th>\n",
       "      <td>0.23</td>\n",
       "      <td>0.12</td>\n",
       "    </tr>\n",
       "  </tbody>\n",
       "</table>\n",
       "</div>"
      ],
      "text/plain": [
       "    ann   nes\n",
       "1  3.39  2.41\n",
       "2  5.95  5.19\n",
       "4  0.60  0.57\n",
       "6  0.23  0.12"
      ]
     },
     "execution_count": 16,
     "metadata": {},
     "output_type": "execute_result"
    }
   ],
   "source": [
    "a = corp_wind_df[(corp_wind_df['Patterns'] == 'ADJ_NOUN_F1') | (corp_wind_df['Patterns'] == 'NOUN_NOUN_F1') | (corp_wind_df['Patterns'] == 'ADJ_NOUN_NOUN_F1')| (corp_wind_df['Patterns'] == 'NOUN_NOUN_NOUN_F1')]\n",
    "a['ann'] = [100 - x for x in a['percent_ann_xlnet_equi.pkl']]\n",
    "a['nes'] = [100 - x for x in a['percent_nes_xlnet_equi.pkl']]\n",
    "a[['ann','nes']] "
   ]
  },
  {
   "cell_type": "code",
   "execution_count": 8,
   "id": "c63b24c0-2a98-4dbd-ab4e-201c71e6d914",
   "metadata": {},
   "outputs": [
    {
     "data": {
      "text/html": [
       "<div>\n",
       "<style scoped>\n",
       "    .dataframe tbody tr th:only-of-type {\n",
       "        vertical-align: middle;\n",
       "    }\n",
       "\n",
       "    .dataframe tbody tr th {\n",
       "        vertical-align: top;\n",
       "    }\n",
       "\n",
       "    .dataframe thead th {\n",
       "        text-align: right;\n",
       "    }\n",
       "</style>\n",
       "<table border=\"1\" class=\"dataframe\">\n",
       "  <thead>\n",
       "    <tr style=\"text-align: right;\">\n",
       "      <th></th>\n",
       "      <th>Patterns</th>\n",
       "      <th>percent_ann_xlnet_corp.pkl</th>\n",
       "      <th>percent_nes_xlnet_corp.pkl</th>\n",
       "    </tr>\n",
       "  </thead>\n",
       "  <tbody>\n",
       "    <tr>\n",
       "      <th>1</th>\n",
       "      <td>ADJ_NOUN_F1</td>\n",
       "      <td>113.66</td>\n",
       "      <td>100.35</td>\n",
       "    </tr>\n",
       "    <tr>\n",
       "      <th>2</th>\n",
       "      <td>NOUN_NOUN_F1</td>\n",
       "      <td>105.33</td>\n",
       "      <td>92.08</td>\n",
       "    </tr>\n",
       "    <tr>\n",
       "      <th>4</th>\n",
       "      <td>ADJ_NOUN_NOUN_F1</td>\n",
       "      <td>102.90</td>\n",
       "      <td>100.79</td>\n",
       "    </tr>\n",
       "    <tr>\n",
       "      <th>6</th>\n",
       "      <td>NOUN_NOUN_NOUN_F1</td>\n",
       "      <td>102.71</td>\n",
       "      <td>100.35</td>\n",
       "    </tr>\n",
       "  </tbody>\n",
       "</table>\n",
       "</div>"
      ],
      "text/plain": [
       "            Patterns  percent_ann_xlnet_corp.pkl  percent_nes_xlnet_corp.pkl\n",
       "1        ADJ_NOUN_F1                      113.66                      100.35\n",
       "2       NOUN_NOUN_F1                      105.33                       92.08\n",
       "4   ADJ_NOUN_NOUN_F1                      102.90                      100.79\n",
       "6  NOUN_NOUN_NOUN_F1                      102.71                      100.35"
      ]
     },
     "execution_count": 8,
     "metadata": {},
     "output_type": "execute_result"
    }
   ],
   "source": [
    "equi_wind = pd.read_csv('./equi_wind/en_iate_f1.csv').rename(columns={'Unnamed: 0':'Patterns'})\n",
    "equi_wind = equi_wind[equi_wind['Patterns'].str.endswith('_F1')]\n",
    "for col in cols:\n",
    "    equi_wind['percent_'+col] = round(equi_wind[col]*100/equi_wind[col].iloc[0],2)\n",
    "equi_wind_df = equi_wind.filter(regex='percent_|Patterns')\n",
    "# equi_wind_df.to_csv('./equi_wind/en_iate_f1_.csv')\n",
    "equi_wind_df = equi_wind_df[['Patterns','percent_ann_xlnet_corp.pkl','percent_nes_xlnet_corp.pkl']]\n",
    "equi_wind_df[(equi_wind_df.filter(regex='percent_').values > 100).any(axis=1)]"
   ]
  },
  {
   "cell_type": "code",
   "execution_count": null,
   "id": "395d44de-bdeb-4c7a-8cc5-f294735e3b42",
   "metadata": {},
   "outputs": [],
   "source": []
  },
  {
   "cell_type": "code",
   "execution_count": null,
   "id": "f99f811b-1ebc-4bf8-96d3-6076918f1f9b",
   "metadata": {},
   "outputs": [],
   "source": []
  }
 ],
 "metadata": {
  "kernelspec": {
   "display_name": "Python 3",
   "language": "python",
   "name": "python3"
  },
  "language_info": {
   "codemirror_mode": {
    "name": "ipython",
    "version": 3
   },
   "file_extension": ".py",
   "mimetype": "text/x-python",
   "name": "python",
   "nbconvert_exporter": "python",
   "pygments_lexer": "ipython3",
   "version": "3.9.2"
  }
 },
 "nbformat": 4,
 "nbformat_minor": 5
}
