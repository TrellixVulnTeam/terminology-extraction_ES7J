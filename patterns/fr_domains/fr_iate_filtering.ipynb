{
 "cells": [
  {
   "cell_type": "code",
   "execution_count": 1,
   "id": "c1120159-37e3-4b7e-8558-839ac244dcc8",
   "metadata": {},
   "outputs": [],
   "source": [
    "import pandas as pd"
   ]
  },
  {
   "cell_type": "code",
   "execution_count": 4,
   "id": "17e12ffd-2cca-4519-806e-6cc74261933e",
   "metadata": {},
   "outputs": [
    {
     "data": {
      "text/html": [
       "<div>\n",
       "<style scoped>\n",
       "    .dataframe tbody tr th:only-of-type {\n",
       "        vertical-align: middle;\n",
       "    }\n",
       "\n",
       "    .dataframe tbody tr th {\n",
       "        vertical-align: top;\n",
       "    }\n",
       "\n",
       "    .dataframe thead th {\n",
       "        text-align: right;\n",
       "    }\n",
       "</style>\n",
       "<table border=\"1\" class=\"dataframe\">\n",
       "  <thead>\n",
       "    <tr style=\"text-align: right;\">\n",
       "      <th></th>\n",
       "      <th>pattern</th>\n",
       "      <th>iate_%</th>\n",
       "      <th>headword</th>\n",
       "      <th>quality</th>\n",
       "    </tr>\n",
       "  </thead>\n",
       "  <tbody>\n",
       "    <tr>\n",
       "      <th>0</th>\n",
       "      <td>NOUN ADP NOUN</td>\n",
       "      <td>0.14</td>\n",
       "      <td>0</td>\n",
       "      <td>1</td>\n",
       "    </tr>\n",
       "    <tr>\n",
       "      <th>1</th>\n",
       "      <td>NOUN ADJ</td>\n",
       "      <td>0.14</td>\n",
       "      <td>0</td>\n",
       "      <td>1</td>\n",
       "    </tr>\n",
       "    <tr>\n",
       "      <th>2</th>\n",
       "      <td>NOUN</td>\n",
       "      <td>0.11</td>\n",
       "      <td>0</td>\n",
       "      <td>1</td>\n",
       "    </tr>\n",
       "    <tr>\n",
       "      <th>3</th>\n",
       "      <td>NOUN ADP DET NOUN</td>\n",
       "      <td>0.04</td>\n",
       "      <td>0</td>\n",
       "      <td>1</td>\n",
       "    </tr>\n",
       "    <tr>\n",
       "      <th>4</th>\n",
       "      <td>NOUN ADP NOUN ADJ</td>\n",
       "      <td>0.03</td>\n",
       "      <td>0</td>\n",
       "      <td>1</td>\n",
       "    </tr>\n",
       "    <tr>\n",
       "      <th>5</th>\n",
       "      <td>NOUN ADP NOUN ADP NOUN</td>\n",
       "      <td>0.02</td>\n",
       "      <td>0</td>\n",
       "      <td>1</td>\n",
       "    </tr>\n",
       "    <tr>\n",
       "      <th>6</th>\n",
       "      <td>ADJ</td>\n",
       "      <td>0.02</td>\n",
       "      <td>0</td>\n",
       "      <td>1</td>\n",
       "    </tr>\n",
       "    <tr>\n",
       "      <th>7</th>\n",
       "      <td>ADV</td>\n",
       "      <td>0.02</td>\n",
       "      <td>0</td>\n",
       "      <td>0</td>\n",
       "    </tr>\n",
       "    <tr>\n",
       "      <th>8</th>\n",
       "      <td>NOUN ADJ ADJ</td>\n",
       "      <td>0.01</td>\n",
       "      <td>0</td>\n",
       "      <td>1</td>\n",
       "    </tr>\n",
       "    <tr>\n",
       "      <th>9</th>\n",
       "      <td>NOUN ADP NOUN ADP DET NOUN</td>\n",
       "      <td>0.01</td>\n",
       "      <td>0</td>\n",
       "      <td>1</td>\n",
       "    </tr>\n",
       "    <tr>\n",
       "      <th>10</th>\n",
       "      <td>NOUN ADJ ADP NOUN</td>\n",
       "      <td>0.01</td>\n",
       "      <td>0</td>\n",
       "      <td>1</td>\n",
       "    </tr>\n",
       "    <tr>\n",
       "      <th>11</th>\n",
       "      <td>NOUN ADP DET NOUN ADJ</td>\n",
       "      <td>0.01</td>\n",
       "      <td>0</td>\n",
       "      <td>1</td>\n",
       "    </tr>\n",
       "    <tr>\n",
       "      <th>12</th>\n",
       "      <td>NOUN ADJ ADP DET NOUN</td>\n",
       "      <td>0.01</td>\n",
       "      <td>0</td>\n",
       "      <td>1</td>\n",
       "    </tr>\n",
       "    <tr>\n",
       "      <th>13</th>\n",
       "      <td>ADJ NOUN</td>\n",
       "      <td>0.01</td>\n",
       "      <td>1</td>\n",
       "      <td>0</td>\n",
       "    </tr>\n",
       "    <tr>\n",
       "      <th>14</th>\n",
       "      <td>NOUN NOUN</td>\n",
       "      <td>0.01</td>\n",
       "      <td>0</td>\n",
       "      <td>1</td>\n",
       "    </tr>\n",
       "    <tr>\n",
       "      <th>15</th>\n",
       "      <td>NOUN ADP DET NOUN ADP NOUN</td>\n",
       "      <td>0.01</td>\n",
       "      <td>0</td>\n",
       "      <td>1</td>\n",
       "    </tr>\n",
       "    <tr>\n",
       "      <th>16</th>\n",
       "      <td>NOUN ADP DET NOUN ADP DET NOUN</td>\n",
       "      <td>0.01</td>\n",
       "      <td>0</td>\n",
       "      <td>1</td>\n",
       "    </tr>\n",
       "  </tbody>\n",
       "</table>\n",
       "</div>"
      ],
      "text/plain": [
       "                           pattern  iate_%  headword  quality\n",
       "0                    NOUN ADP NOUN    0.14         0        1\n",
       "1                         NOUN ADJ    0.14         0        1\n",
       "2                             NOUN    0.11         0        1\n",
       "3                NOUN ADP DET NOUN    0.04         0        1\n",
       "4                NOUN ADP NOUN ADJ    0.03         0        1\n",
       "5           NOUN ADP NOUN ADP NOUN    0.02         0        1\n",
       "6                              ADJ    0.02         0        1\n",
       "7                              ADV    0.02         0        0\n",
       "8                     NOUN ADJ ADJ    0.01         0        1\n",
       "9       NOUN ADP NOUN ADP DET NOUN    0.01         0        1\n",
       "10               NOUN ADJ ADP NOUN    0.01         0        1\n",
       "11           NOUN ADP DET NOUN ADJ    0.01         0        1\n",
       "12           NOUN ADJ ADP DET NOUN    0.01         0        1\n",
       "13                        ADJ NOUN    0.01         1        0\n",
       "14                       NOUN NOUN    0.01         0        1\n",
       "15      NOUN ADP DET NOUN ADP NOUN    0.01         0        1\n",
       "16  NOUN ADP DET NOUN ADP DET NOUN    0.01         0        1"
      ]
     },
     "execution_count": 4,
     "metadata": {},
     "output_type": "execute_result"
    }
   ],
   "source": [
    "pattern_f = pd.read_csv('patterns_fr.txt', delimiter = '\\t')\n",
    "pattern_f"
   ]
  },
  {
   "cell_type": "code",
   "execution_count": 1,
   "id": "884f7981-3c45-4461-ad73-c505a668c889",
   "metadata": {},
   "outputs": [
    {
     "name": "stderr",
     "output_type": "stream",
     "text": [
      "[nltk_data] Downloading package stopwords to\n",
      "[nltk_data]     /Users/hanhtran/nltk_data...\n",
      "[nltk_data]   Package stopwords is already up-to-date!\n",
      "Downloading https://raw.githubusercontent.com/stanfordnlp/stanza-resources/master/resources_1.2.0.json: 128kB [00:00, 30.0MB/s]                    \n",
      "2021-06-10 12:08:07 INFO: Downloading default packages for language: fr (French)...\n",
      "2021-06-10 12:08:09 INFO: File exists: /Users/hanhtran/stanza_resources/fr/default.zip.\n",
      "2021-06-10 12:08:13 INFO: Finished downloading models and saved to /Users/hanhtran/stanza_resources.\n",
      "2021-06-10 12:08:13 WARNING: Language fr package default expects mwt, which has been added\n",
      "2021-06-10 12:08:13 INFO: Loading these models for language: fr (French):\n",
      "=======================\n",
      "| Processor | Package |\n",
      "-----------------------\n",
      "| tokenize  | gsd     |\n",
      "| mwt       | gsd     |\n",
      "| pos       | gsd     |\n",
      "| lemma     | gsd     |\n",
      "=======================\n",
      "\n",
      "2021-06-10 12:08:13 INFO: Use device: cpu\n",
      "2021-06-10 12:08:13 INFO: Loading: tokenize\n",
      "2021-06-10 12:08:13 INFO: Loading: mwt\n",
      "2021-06-10 12:08:13 INFO: Loading: pos\n",
      "2021-06-10 12:08:13 INFO: Loading: lemma\n",
      "2021-06-10 12:08:13 INFO: Done loading processors!\n"
     ]
    }
   ],
   "source": [
    "import pandas as pd\n",
    "import pickle as pkl\n",
    "import re\n",
    "from collections import Counter\n",
    "import nltk\n",
    "nltk.download('stopwords')\n",
    "from nltk.corpus import stopwords \n",
    "\n",
    "import stanza\n",
    "stanza.download('fr')\n",
    "nlp = stanza.Pipeline(lang='fr', processors='tokenize,pos,lemma')\n",
    "\n",
    "def count_freq(preds, gts):\n",
    "    preds_len = [len(x.split(' ')) for x in preds]\n",
    "    gts_len = [len(x.split(' ')) for x in gts]\n",
    "    print(Counter(preds_len))\n",
    "    print(Counter(gts_len))\n",
    "\n",
    "def evaluation_metrics(pred, gt):\n",
    "    TP = len(set(pred) & set(gt)) \n",
    "    FP = len(set(pred)-set(gt))\n",
    "    FN = len(set(gt)-set(pred))\n",
    "    precision = round((TP/(TP+FP))*100, 2)\n",
    "    recall = round((TP/(TP+FN))*100,2)\n",
    "    f1_score = round((2 * precision * recall) / (precision + recall),2)\n",
    "    return precision, recall, f1_score \n",
    "\n",
    "def lemma(li):\n",
    "    new_list = []\n",
    "    for t in li:\n",
    "        doc = nlp(str(t))\n",
    "        doc1 = ' '.join([word.lemma for sent in doc.sentences for word in sent.words])\n",
    "        doc1 = re.sub('-',' ',doc1)\n",
    "        doc1 = re.sub(' +', ' ',doc1)\n",
    "        new_list.append(doc1)\n",
    "    new_list = [s for s in new_list if len(s) >= 2]\n",
    "    return new_list\n",
    "\n",
    "def get_term_(predictions):\n",
    "    all_term = []\n",
    "    for sentence in predictions:\n",
    "        tokens = []\n",
    "        labels = []\n",
    "        for d in sentence:\n",
    "            tokens.extend(d.keys())\n",
    "            labels.extend(d.values())\n",
    "\n",
    "        for i, label in enumerate(labels):\n",
    "            if labels[i] == 'I' and (i == 0 or labels[i - 1] == 'O'):\n",
    "                labels[i] = 'O'\n",
    "\n",
    "        terms = []\n",
    "        term = []\n",
    "        for token, label in zip(tokens, labels):\n",
    "            if label == 'B':\n",
    "                #Lưu vị trí B\n",
    "                b_pos = i\n",
    "                term = [token]\n",
    "            elif label == 'I':\n",
    "                term.append(token)\n",
    "            elif len(term) > 0:\n",
    "                terms.append(' '.join(term))\n",
    "                term = []\n",
    "        if len(term) > 0:\n",
    "            terms.append(' '.join(term))\n",
    "            # Check b_pos = 0 không\n",
    "        all_term.append(terms)\n",
    "    \n",
    "    final_terms = []\n",
    "    for i in all_term:\n",
    "        final_terms.extend(i)\n",
    "\n",
    "    final_terms = [x.lower().strip() for x in final_terms]\n",
    "    return final_terms  "
   ]
  },
  {
   "cell_type": "markdown",
   "id": "85db24f7-8d9f-4fa9-85af-e500cf17250e",
   "metadata": {},
   "source": [
    "1. NOUN APD NOUN - 0"
   ]
  },
  {
   "cell_type": "markdown",
   "id": "bc649f9f-1caa-4774-a38e-d89a964bda07",
   "metadata": {},
   "source": [
    "2. NOUN ADJ - 0"
   ]
  },
  {
   "cell_type": "markdown",
   "id": "c459cbb6-1ee2-4214-9381-3acff7044e12",
   "metadata": {},
   "source": [
    "3. NOUN ADP DET NOUN - 0"
   ]
  },
  {
   "cell_type": "markdown",
   "id": "fd74807d-f855-424e-b05b-fd39150b3000",
   "metadata": {},
   "source": [
    "4. NOUN ADP NOUN ADJ - 0"
   ]
  },
  {
   "cell_type": "markdown",
   "id": "aab96f25-69d0-42ef-a982-59a33cc6164b",
   "metadata": {},
   "source": [
    "5. NOUN ADP NOUN ADP NOUN - 0"
   ]
  },
  {
   "cell_type": "markdown",
   "id": "10fa008d-ef90-491c-b7b5-35c2e5ac6190",
   "metadata": {},
   "source": [
    "6. NOUN ADJ ADJ - 0"
   ]
  },
  {
   "cell_type": "markdown",
   "id": "17ee9906-ac41-4584-9f40-5c184283bbb0",
   "metadata": {},
   "source": [
    "7. NOUN ADP NOUN ADP DET NOUN - 0"
   ]
  },
  {
   "cell_type": "markdown",
   "id": "70df082e-e7ea-4907-a488-262bdc049bd3",
   "metadata": {},
   "source": [
    "8. NOUN ADJ ADP NOUN - 0"
   ]
  },
  {
   "cell_type": "markdown",
   "id": "352ae009-41b5-4084-b500-a3a7e91c3d9a",
   "metadata": {},
   "source": [
    "9. NOUN ADP DET NOUN ADJ - 0"
   ]
  },
  {
   "cell_type": "markdown",
   "id": "ae422165-de15-47aa-a9b8-c04fdc29182c",
   "metadata": {},
   "source": [
    "10. NOUN ADJ ADP DET NOUN - 0"
   ]
  },
  {
   "cell_type": "markdown",
   "id": "e996e120-f9a2-4b57-ad3f-629967b3461f",
   "metadata": {},
   "source": [
    "11. ADJ NOUN - 1"
   ]
  },
  {
   "cell_type": "markdown",
   "id": "e343fc9f-7c3d-4c40-8f1a-5dcde72e6d95",
   "metadata": {},
   "source": [
    "12. NOUN NOUN - 0"
   ]
  },
  {
   "cell_type": "markdown",
   "id": "83a9c8ac-d246-4bfb-863a-c522ff1a2682",
   "metadata": {},
   "source": [
    "13. NOUN ADP DET NOUN ADP NOUN - 0"
   ]
  },
  {
   "cell_type": "markdown",
   "id": "4aeac234-5c27-4d1a-8ad7-e294b1dcd3f0",
   "metadata": {},
   "source": [
    "14. NOUN ADP DET NOUN ADP DET NOUN - 0"
   ]
  },
  {
   "cell_type": "code",
   "execution_count": null,
   "id": "bcc6aa28-029f-4b4d-bf6d-7d74844f97ac",
   "metadata": {},
   "outputs": [],
   "source": []
  }
 ],
 "metadata": {
  "kernelspec": {
   "display_name": "Python 3",
   "language": "python",
   "name": "python3"
  },
  "language_info": {
   "codemirror_mode": {
    "name": "ipython",
    "version": 3
   },
   "file_extension": ".py",
   "mimetype": "text/x-python",
   "name": "python",
   "nbconvert_exporter": "python",
   "pygments_lexer": "ipython3",
   "version": "3.9.2"
  }
 },
 "nbformat": 4,
 "nbformat_minor": 5
}
