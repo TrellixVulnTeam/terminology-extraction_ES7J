{
 "cells": [
  {
   "cell_type": "code",
   "execution_count": 1,
   "id": "3b6b934c",
   "metadata": {},
   "outputs": [],
   "source": [
    "import os\n",
    "import logging\n",
    "\n",
    "logging.basicConfig(format = '%(asctime)s - %(levelname)s - %(name)s -   %(message)s',\n",
    "                    datefmt = '%m/%d/%Y %H:%M:%S',\n",
    "                    level = logging.INFO)\n",
    "logger = logging.getLogger(\"regressor\")\n",
    "\n",
    "FP16 = False\n",
    "BATCH_SIZE = 32\n",
    "SEED = 42\n",
    "WARMUP_PROPORTION = 0.1\n",
    "PYTORCH_PRETRAINED_BERT_CACHE = \"/mnt/Intel/bert_tmp\"\n",
    "LOSS_SCALE = 0. # Loss scaling to improve fp16 numeric stability. Only used when fp16 set to True.\n",
    "MAX_SEQ_LENGTH = 100\n",
    "\n",
    "DATA_PATH = \"ann_train_inl.csv\""
   ]
  },
  {
   "cell_type": "code",
   "execution_count": null,
   "id": "c2c365b7",
   "metadata": {},
   "outputs": [],
   "source": []
  }
 ],
 "metadata": {
  "kernelspec": {
   "display_name": "Python 3",
   "language": "python",
   "name": "python3"
  },
  "language_info": {
   "codemirror_mode": {
    "name": "ipython",
    "version": 3
   },
   "file_extension": ".py",
   "mimetype": "text/x-python",
   "name": "python",
   "nbconvert_exporter": "python",
   "pygments_lexer": "ipython3",
   "version": "3.9.2"
  }
 },
 "nbformat": 4,
 "nbformat_minor": 5
}
